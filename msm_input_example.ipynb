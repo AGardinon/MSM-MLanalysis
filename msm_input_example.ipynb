{
 "cells": [
  {
   "cell_type": "code",
   "execution_count": 10,
   "metadata": {},
   "outputs": [],
   "source": [
    "from msmanalysis.utils.misc import parse_config"
   ]
  },
  {
   "cell_type": "code",
   "execution_count": 11,
   "metadata": {},
   "outputs": [],
   "source": [
    "msm_input = parse_config(filename='msm_confing.json', toNameSpace=True)"
   ]
  },
  {
   "cell_type": "code",
   "execution_count": 12,
   "metadata": {},
   "outputs": [
    {
     "data": {
      "text/plain": [
       "namespace(descriptor_file_path='/path/to/soap/files/',\n",
       "          descriptor_file_extension='.npy',\n",
       "          tica_analysis_dict={'lag_time_scan': [1, 2, 4, 8, 16, 32, 64],\n",
       "                              'tica_param': {'lagtime': False,\n",
       "                               'var_cutoff': 0.95}},\n",
       "          clustering_analysis_dict={'method': 'KMeans',\n",
       "                                    'param_dict': {'n_clusters': 150,\n",
       "                                     'fixed_seed': 73,\n",
       "                                     'max_iter': 5000,\n",
       "                                     'n_jobs': 8,\n",
       "                                     'progress': 'tqdm'}},\n",
       "          msm_analysis_dict={'estimator': 'MaximumLikelihoodMSM',\n",
       "                             'estimator_param': {'reversivble': True},\n",
       "                             'count_mode': 'sliding',\n",
       "                             'msm_analysis_param': {'n_particles': 114,\n",
       "                              'eigenval_treshold': False,\n",
       "                              'fixed_eigensates': 18}})"
      ]
     },
     "execution_count": 12,
     "metadata": {},
     "output_type": "execute_result"
    }
   ],
   "source": [
    "msm_input"
   ]
  },
  {
   "cell_type": "code",
   "execution_count": 14,
   "metadata": {},
   "outputs": [],
   "source": [
    "tica_analysis_dict = msm_input.tica_analysis_dict"
   ]
  },
  {
   "cell_type": "code",
   "execution_count": 16,
   "metadata": {},
   "outputs": [
    {
     "data": {
      "text/plain": [
       "{'lag_time_scan': [1, 2, 4, 8, 16, 32, 64],\n",
       " 'tica_param': {'lagtime': None, 'var_cutoff': 0.95}}"
      ]
     },
     "execution_count": 16,
     "metadata": {},
     "output_type": "execute_result"
    }
   ],
   "source": [
    "tica_analysis_dict['tica_param'].update(lagtime=None)\n",
    "tica_analysis_dict"
   ]
  },
  {
   "cell_type": "code",
   "execution_count": null,
   "metadata": {},
   "outputs": [],
   "source": []
  }
 ],
 "metadata": {
  "kernelspec": {
   "display_name": "litions",
   "language": "python",
   "name": "python3"
  },
  "language_info": {
   "codemirror_mode": {
    "name": "ipython",
    "version": 3
   },
   "file_extension": ".py",
   "mimetype": "text/x-python",
   "name": "python",
   "nbconvert_exporter": "python",
   "pygments_lexer": "ipython3",
   "version": "3.12.2"
  }
 },
 "nbformat": 4,
 "nbformat_minor": 2
}
